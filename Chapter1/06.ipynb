{
 "cells": [
  {
   "cell_type": "code",
   "execution_count": 1,
   "metadata": {},
   "outputs": [],
   "source": [
    "# \"paraparaparadise\"と\"paragraph\"に含まれる文字bi-gramの集合を，それぞれ, XとYとして求め，XとYの和集合，積集合，差集合を求めよ．さらに，'se'というbi-gramがXおよびYに含まれるかどうかを調べよ．"
   ]
  },
  {
   "cell_type": "code",
   "execution_count": 6,
   "metadata": {},
   "outputs": [],
   "source": [
    "from mod import ngram"
   ]
  },
  {
   "cell_type": "code",
   "execution_count": 7,
   "metadata": {},
   "outputs": [],
   "source": [
    "str1 = \"paraparaparadise\"\n",
    "str2 = \"paragraph\""
   ]
  },
  {
   "cell_type": "code",
   "execution_count": 14,
   "metadata": {},
   "outputs": [],
   "source": [
    "bigram1 = ngram(str1, 2)\n",
    "bigram2 = ngram(str2, 2)"
   ]
  },
  {
   "cell_type": "code",
   "execution_count": 21,
   "metadata": {},
   "outputs": [
    {
     "name": "stdout",
     "output_type": "stream",
     "text": [
      "X: {'ap', 'ra', 'is', 'ar', 'di', 'se', 'ad', 'pa'}\n",
      "Y: {'ap', 'ra', 'gr', 'ag', 'ar', 'ph', 'pa'}\n"
     ]
    }
   ],
   "source": [
    "X = set(bigram1)\n",
    "Y = set(bigram2)\n",
    "print(\"X:\",X)\n",
    "print(\"Y:\",Y)"
   ]
  },
  {
   "cell_type": "code",
   "execution_count": 22,
   "metadata": {},
   "outputs": [
    {
     "name": "stdout",
     "output_type": "stream",
     "text": [
      "{'ap', 'ra', 'is', 'gr', 'ag', 'ar', 'di', 'ph', 'se', 'ad', 'pa'}\n"
     ]
    }
   ],
   "source": [
    "# 和集合\n",
    "print(X|Y)"
   ]
  },
  {
   "cell_type": "code",
   "execution_count": 23,
   "metadata": {},
   "outputs": [
    {
     "name": "stdout",
     "output_type": "stream",
     "text": [
      "{'ar', 'ap', 'ra', 'pa'}\n"
     ]
    }
   ],
   "source": [
    "# 積集合\n",
    "print(X&Y)"
   ]
  },
  {
   "cell_type": "code",
   "execution_count": 19,
   "metadata": {},
   "outputs": [
    {
     "name": "stdout",
     "output_type": "stream",
     "text": [
      "{'di', 'se', 'is', 'ad'}\n",
      "{'ag', 'ph', 'gr'}\n"
     ]
    }
   ],
   "source": [
    "# 差集合\n",
    "print(X-Y)\n",
    "print(Y-X)"
   ]
  },
  {
   "cell_type": "code",
   "execution_count": 20,
   "metadata": {},
   "outputs": [
    {
     "name": "stdout",
     "output_type": "stream",
     "text": [
      "{'di', 'is', 'ph', 'gr', 'se', 'ag', 'ad'}\n"
     ]
    }
   ],
   "source": [
    "# 排他的論理和\n",
    "print(X^Y)"
   ]
  },
  {
   "cell_type": "code",
   "execution_count": 26,
   "metadata": {},
   "outputs": [
    {
     "name": "stdout",
     "output_type": "stream",
     "text": [
      "se is in X\n"
     ]
    }
   ],
   "source": [
    "# \"se\"がX及びYに含まれているか調べる\n",
    "if \"se\" in X:\n",
    "    print(\"se is in X\")\n",
    "if \"se\" in Y:\n",
    "    print(\"se is in Y\")"
   ]
  },
  {
   "cell_type": "code",
   "execution_count": null,
   "metadata": {},
   "outputs": [],
   "source": []
  }
 ],
 "metadata": {
  "kernelspec": {
   "display_name": "Python 3",
   "language": "python",
   "name": "python3"
  },
  "language_info": {
   "codemirror_mode": {
    "name": "ipython",
    "version": 3
   },
   "file_extension": ".py",
   "mimetype": "text/x-python",
   "name": "python",
   "nbconvert_exporter": "python",
   "pygments_lexer": "ipython3",
   "version": "3.5.2"
  }
 },
 "nbformat": 4,
 "nbformat_minor": 2
}
