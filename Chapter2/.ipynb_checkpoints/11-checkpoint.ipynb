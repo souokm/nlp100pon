{
 "cells": [
  {
   "cell_type": "code",
   "execution_count": 1,
   "metadata": {},
   "outputs": [],
   "source": [
    "# タブ1文字につきスペース1文字に置換せよ．確認にはsedコマンド，trコマンド，もしくはexpandコマンドを用いよ"
   ]
  },
  {
   "cell_type": "code",
   "execution_count": 2,
   "metadata": {},
   "outputs": [],
   "source": [
    "import codecs"
   ]
  },
  {
   "cell_type": "code",
   "execution_count": 6,
   "metadata": {},
   "outputs": [
    {
     "name": "stdout",
     "output_type": "stream",
     "text": [
      "高知県\t江川崎\t41\t2013-08-12\n",
      "\n",
      "高知県\t江川崎\t41\t2013-08-12\n",
      "\n",
      "埼玉県\t熊谷\t40.9\t2007-08-16\n",
      "\n",
      "埼玉県\t熊谷\t40.9\t2007-08-16\n",
      "\n",
      "岐阜県\t多治見\t40.9\t2007-08-16\n",
      "\n",
      "岐阜県\t多治見\t40.9\t2007-08-16\n",
      "\n",
      "山形県\t山形\t40.8\t1933-07-25\n",
      "\n",
      "山形県\t山形\t40.8\t1933-07-25\n",
      "\n",
      "山梨県\t甲府\t40.7\t2013-08-10\n",
      "\n",
      "山梨県\t甲府\t40.7\t2013-08-10\n",
      "\n",
      "和歌山県\tかつらぎ\t40.6\t1994-08-08\n",
      "\n",
      "和歌山県\tかつらぎ\t40.6\t1994-08-08\n",
      "\n",
      "静岡県\t天竜\t40.6\t1994-08-04\n",
      "\n",
      "静岡県\t天竜\t40.6\t1994-08-04\n",
      "\n",
      "山梨県\t勝沼\t40.5\t2013-08-10\n",
      "\n",
      "山梨県\t勝沼\t40.5\t2013-08-10\n",
      "\n",
      "埼玉県\t越谷\t40.4\t2007-08-16\n",
      "\n",
      "埼玉県\t越谷\t40.4\t2007-08-16\n",
      "\n",
      "群馬県\t館林\t40.3\t2007-08-16\n",
      "\n",
      "群馬県\t館林\t40.3\t2007-08-16\n",
      "\n",
      "群馬県\t上里見\t40.3\t1998-07-04\n",
      "\n",
      "群馬県\t上里見\t40.3\t1998-07-04\n",
      "\n",
      "愛知県\t愛西\t40.3\t1994-08-05\n",
      "\n",
      "愛知県\t愛西\t40.3\t1994-08-05\n",
      "\n",
      "千葉県\t牛久\t40.2\t2004-07-20\n",
      "\n",
      "千葉県\t牛久\t40.2\t2004-07-20\n",
      "\n",
      "静岡県\t佐久間\t40.2\t2001-07-24\n",
      "\n",
      "静岡県\t佐久間\t40.2\t2001-07-24\n",
      "\n",
      "愛媛県\t宇和島\t40.2\t1927-07-22\n",
      "\n",
      "愛媛県\t宇和島\t40.2\t1927-07-22\n",
      "\n",
      "山形県\t酒田\t40.1\t1978-08-03\n",
      "\n",
      "山形県\t酒田\t40.1\t1978-08-03\n",
      "\n",
      "岐阜県\t美濃\t40\t2007-08-16\n",
      "\n",
      "岐阜県\t美濃\t40\t2007-08-16\n",
      "\n",
      "群馬県\t前橋\t40\t2001-07-24\n",
      "\n",
      "群馬県\t前橋\t40\t2001-07-24\n",
      "\n",
      "千葉県\t茂原\t39.9\t2013-08-11\n",
      "\n",
      "千葉県\t茂原\t39.9\t2013-08-11\n",
      "\n",
      "埼玉県\t鳩山\t39.9\t1997-07-05\n",
      "\n",
      "埼玉県\t鳩山\t39.9\t1997-07-05\n",
      "\n",
      "大阪府\t豊中\t39.9\t1994-08-08\n",
      "\n",
      "大阪府\t豊中\t39.9\t1994-08-08\n",
      "\n",
      "山梨県\t大月\t39.9\t1990-07-19\n",
      "\n",
      "山梨県\t大月\t39.9\t1990-07-19\n",
      "\n",
      "山形県\t鶴岡\t39.9\t1978-08-03\n",
      "\n",
      "山形県\t鶴岡\t39.9\t1978-08-03\n",
      "\n",
      "愛知県\t名古屋\t39.9\t1942-08-02\n",
      "\n",
      "愛知県\t名古屋\t39.9\t1942-08-02\n",
      "\n"
     ]
    }
   ],
   "source": [
    "with codecs.open('hightemp.txt','r','utf-8') as f:\n",
    "    for line in f:\n",
    "        print(line)\n",
    "        line.replace(\"\\t\",\"\")\n",
    "        print(line)"
   ]
  },
  {
   "cell_type": "code",
   "execution_count": null,
   "metadata": {},
   "outputs": [],
   "source": []
  },
  {
   "cell_type": "code",
   "execution_count": null,
   "metadata": {},
   "outputs": [],
   "source": []
  }
 ],
 "metadata": {
  "kernelspec": {
   "display_name": "Python 3",
   "language": "python",
   "name": "python3"
  },
  "language_info": {
   "codemirror_mode": {
    "name": "ipython",
    "version": 3
   },
   "file_extension": ".py",
   "mimetype": "text/x-python",
   "name": "python",
   "nbconvert_exporter": "python",
   "pygments_lexer": "ipython3",
   "version": "3.5.2"
  }
 },
 "nbformat": 4,
 "nbformat_minor": 2
}
